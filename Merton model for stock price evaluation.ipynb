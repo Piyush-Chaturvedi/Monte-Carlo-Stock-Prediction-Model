{
 "cells": [
  {
   "cell_type": "code",
   "execution_count": null,
   "id": "429f35f3",
   "metadata": {},
   "outputs": [],
   "source": [
    "import numpy as np\n",
    "import pandas as pd\n",
    "import yfinance as yf\n",
    "import matplotlib.pyplot as plt\n",
    "from scipy.stats import norm, kstest, anderson\n",
    "from scipy.optimize import minimize\n",
    "\n",
    "# np.random.seed(42)\n",
    "# plt.style.use(\"seaborn\")"
   ]
  },
  {
   "cell_type": "code",
   "execution_count": null,
   "id": "3a189d74",
   "metadata": {},
   "outputs": [],
   "source": [
    "\n",
    "ticker = \"AAPL\"\n",
    "data = yf.download(ticker, start=\"2022-01-01\", end=\"2023-01-01\")[\"Adj Close\"]\n",
    "\n",
    "# Compute log returns\n",
    "returns = np.log(data / data.shift(1)).dropna()\n",
    "\n",
    "plt.figure(figsize=(10,4))\n",
    "plt.plot(data, label=\"Stock Price\")\n",
    "plt.title(f\"{ticker} Price\")\n",
    "plt.legend()\n",
    "plt.show()\n",
    "\n",
    "plt.figure(figsize=(10,4))\n",
    "plt.hist(returns, bins=50, density=True, alpha=0.6, color='blue')\n",
    "plt.title(f\"Log Returns Distribution of {ticker}\")\n",
    "plt.show()\n"
   ]
  },
  {
   "cell_type": "code",
   "execution_count": null,
   "id": "808191a2",
   "metadata": {},
   "outputs": [],
   "source": [
    "mu_hat = returns.mean() * 252\n",
    "sigma_hat = returns.std() * np.sqrt(252)\n",
    "\n",
    "# Jump detection (3-sigma filter)\n",
    "threshold = 3 * returns.std()\n",
    "jumps = returns[np.abs(returns - returns.mean()) > threshold]\n",
    "\n",
    "# Jump parameters\n",
    "lam_hat = len(jumps) / len(returns) * 252\n",
    "mu_j_hat = jumps.mean()\n",
    "sigma_j_hat = jumps.std()\n",
    "\n",
    "print(\"GBM Parameters:\")\n",
    "print(f\"mu = {mu_hat:.4f}, sigma = {sigma_hat:.4f}\")\n",
    "print(\"\\nMerton Jump Parameters:\")\n",
    "print(f\"lambda = {lam_hat:.4f}, mu_j = {mu_j_hat:.4f}, sigma_j = {sigma_j_hat:.4f}\")"
   ]
  },
  {
   "cell_type": "code",
   "execution_count": null,
   "id": "ccd9432a",
   "metadata": {},
   "outputs": [],
   "source": [
    "def simulate_gbm(S0, mu, sigma, T=1, steps=252, n_sims=10000):\n",
    "    dt = T/steps\n",
    "    prices = np.zeros((n_sims, steps+1))\n",
    "    prices[:,0] = S0\n",
    "    for t in range(1, steps+1):\n",
    "        Z = np.random.normal(0,1,n_sims)\n",
    "        prices[:,t] = prices[:,t-1] * np.exp((mu-0.5*sigma**2)*dt + sigma*np.sqrt(dt)*Z)\n",
    "    return prices\n",
    "\n",
    "def simulate_merton(S0, mu, sigma, lam, mu_j, sigma_j, T=1, steps=252, n_sims=10000):\n",
    "    dt = T/steps\n",
    "    prices = np.zeros((n_sims, steps+1))\n",
    "    prices[:,0] = S0\n",
    "    for t in range(1, steps+1):\n",
    "        Z = np.random.normal(0,1,n_sims)\n",
    "        diffusion = (mu-0.5*sigma**2)*dt + sigma*np.sqrt(dt)*Z\n",
    "        N_t = np.random.poisson(lam*dt, n_sims)\n",
    "        J_t = np.random.normal(mu_j, sigma_j, n_sims) * N_t\n",
    "        prices[:,t] = prices[:,t-1] * np.exp(diffusion + J_t)\n",
    "    return prices"
   ]
  },
  {
   "cell_type": "code",
   "execution_count": null,
   "id": "3228aebc",
   "metadata": {},
   "outputs": [],
   "source": [
    "S0 = data.iloc[-1]\n",
    "T = 1\n",
    "steps = 252\n",
    "n_sims = 10000\n",
    "\n",
    "gbm_prices = simulate_gbm(S0, mu_hat, sigma_hat, T, steps, n_sims)\n",
    "merton_prices = simulate_merton(S0, mu_hat, sigma_hat, lam_hat, mu_j_hat, sigma_j_hat, T, steps, n_sims)\n",
    "\n",
    "plt.figure(figsize=(12,6))\n",
    "for i in range(20):\n",
    "    plt.plot(gbm_prices[i], alpha=0.6)\n",
    "plt.title(\"GBM Sample Paths\")\n",
    "plt.show()\n",
    "\n",
    "plt.figure(figsize=(12,6))\n",
    "for i in range(20):\n",
    "    plt.plot(merton_prices[i], alpha=0.6)\n",
    "plt.title(\"Merton Jump-Diffusion Sample Paths\")\n",
    "plt.show()"
   ]
  },
  {
   "cell_type": "code",
   "execution_count": null,
   "id": "9e305ad0",
   "metadata": {},
   "outputs": [],
   "source": [
    "gbm_final = gbm_prices[:,-1]\n",
    "merton_final = merton_prices[:,-1]\n",
    "\n",
    "# Convert to returns\n",
    "gbm_returns = np.log(gbm_final/S0)\n",
    "merton_returns = np.log(merton_final/S0)\n",
    "\n",
    "# KS Test\n",
    "ks_gbm = kstest(returns, 'norm', args=(gbm_returns.mean(), gbm_returns.std()))\n",
    "ks_merton = kstest(returns, 'norm', args=(merton_returns.mean(), merton_returns.std()))\n",
    "\n",
    "print(\"Kolmogorov–Smirnov Test Results:\")\n",
    "print(f\"GBM KS-stat = {ks_gbm.statistic:.4f}, p-value = {ks_gbm.pvalue:.4f}\")\n",
    "print(f\"Merton KS-stat = {ks_merton.statistic:.4f}, p-value = {ks_merton.pvalue:.4f}\")"
   ]
  }
 ],
 "metadata": {
  "kernelspec": {
   "display_name": "3.11.7",
   "language": "python",
   "name": "python3"
  },
  "language_info": {
   "codemirror_mode": {
    "name": "ipython",
    "version": 3
   },
   "file_extension": ".py",
   "mimetype": "text/x-python",
   "name": "python",
   "nbconvert_exporter": "python",
   "pygments_lexer": "ipython3",
   "version": "3.11.7"
  }
 },
 "nbformat": 4,
 "nbformat_minor": 5
}
